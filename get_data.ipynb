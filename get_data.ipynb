{
 "cells": [
  {
   "cell_type": "code",
   "execution_count": 1,
   "id": "skilled-puzzle",
   "metadata": {},
   "outputs": [],
   "source": [
    "from sshtunnel import SSHTunnelForwarder\n",
    "from clickhouse_driver import Client\n",
    "import pandas as pd\n",
    "from config import *"
   ]
  },
  {
   "cell_type": "code",
   "execution_count": 2,
   "id": "neutral-beverage",
   "metadata": {},
   "outputs": [],
   "source": [
    "repo_ids=[repo[\"id\"] for repo in repos]\n",
    "repo_names=[repo[\"name\"].split('/')[1] for repo in repos]"
   ]
  },
  {
   "cell_type": "code",
   "execution_count": null,
   "id": "increased-emperor",
   "metadata": {},
   "outputs": [],
   "source": [
    "with SSHTunnelForwarder(\n",
    "    (server_address,server_port),\n",
    "    ssh_username=server_user_name,\n",
    "    ssh_password=server_user_password,\n",
    "    remote_bind_address=(remote_address,remote_port)) as server:\n",
    "    client = Client(host='127.0.0.1',port=server.local_bind_port,user=remote_user_name,\n",
    "        password=remote_user_passward,\n",
    "        database=database)\n",
    "    table='year2020'\n",
    "    for i in range(len(repos)):\n",
    "        repo_id=repo_ids[i]\n",
    "        pc=f'''\n",
    "            SELECT toDate(created_at) AS datetime,COUNT(distinct actor_id) AS pc FROM {table} WHERE repo_id={repo_id} GROUP BY datetime\n",
    "        '''\n",
    "        wc=f'''\n",
    "            SELECT toDate(created_at) AS datetime,COUNT(*) AS wc FROM {table} WHERE type='WatchEvent' AND repo_id={repo_id} GROUP BY datetime\n",
    "        '''\n",
    "        fc=f'''\n",
    "            SELECT toDate(created_at) AS datetime,COUNT(*) AS fc FROM {table} WHERE type='ForkEvent' AND repo_id={repo_id} GROUP BY datetime\n",
    "        '''\n",
    "        icc=f'''\n",
    "            SELECT toDate(created_at) AS datetime,COUNT(*) AS icc FROM {table} WHERE type='IssueCommentEvent' AND action='created' AND repo_id={repo_id} GROUP BY datetime\n",
    "        '''\n",
    "        oic=f'''\n",
    "            SELECT toDate(created_at) AS datetime,COUNT(*) AS oic FROM {table} WHERE type='IssuesEvent' AND action='opened' AND repo_id={repo_id} GROUP BY datetime\n",
    "        '''\n",
    "        cic=f'''\n",
    "            SELECT toDate(created_at) AS datetime,COUNT(*) AS cic FROM {table} WHERE type='IssuesEvent' AND action='closed' AND repo_id={repo_id} GROUP BY datetime\n",
    "        '''\n",
    "        opc=f'''\n",
    "            SELECT toDate(created_at) AS datetime,COUNT(*) AS opc FROM {table} WHERE type='PullRequestEvent' AND action='opened' AND repo_id={repo_id} GROUP BY datetime\n",
    "        '''\n",
    "        cpdc=f'''\n",
    "            SELECT toDate(created_at) AS datetime,COUNT(*) AS cpdc FROM {table} WHERE type='PullRequestEvent' AND action='closed' AND pull_merged!=1 AND repo_id={repo_id} GROUP BY datetime\n",
    "        '''\n",
    "        cpc=f'''\n",
    "            SELECT toDate(created_at) AS datetime,COUNT(*) AS cpc,SUM(pull_commits) AS commits,SUM(pull_additions) AS additions,SUM(pull_deletions) AS deletions FROM {table} WHERE type='PullRequestEvent' AND action='closed' AND pull_merged=1 AND repo_id={repo_id} GROUP BY datetime\n",
    "        '''\n",
    "        prc=f'''\n",
    "            SELECT toDate(created_at) AS datetime,COUNT(*) AS prc FROM {table} WHERE type='PullRequestReviewCommentEvent' AND action='created' AND repo_id={repo_id} GROUP BY datetime\n",
    "        '''\n",
    "        sql=f'''\n",
    "            SELECT pc.datetime AS datetime,pc AS participate,wc AS Star,fc AS Fork,\n",
    "            icc AS IssueComment,oic AS OpenIssue,cic AS ClosedIssue,\n",
    "            opc AS PROpen,cpdc AS PRdeclined,\n",
    "            cpc AS PRMerged,commits,additions AS CodeAddedLines,deletions AS CodeDeletedLines,prc AS PRReviewComment\n",
    "            FROM ({pc}) AS pc\n",
    "            LEFT JOIN ({wc}) AS wc\n",
    "            ON pc.datetime=wc.datetime\n",
    "            LEFT JOIN ({fc}) AS fc\n",
    "            ON pc.datetime=fc.datetime\n",
    "            LEFT JOIN ({icc}) AS icc\n",
    "            ON pc.datetime=icc.datetime\n",
    "            LEFT JOIN ({oic}) AS oic\n",
    "            ON pc.datetime=oic.datetime\n",
    "            LEFT JOIN ({cic}) AS cic\n",
    "            ON pc.datetime=cic.datetime\n",
    "            LEFT JOIN ({opc}) AS opc\n",
    "            ON pc.datetime=opc.datetime\n",
    "            LEFT JOIN ({cpdc}) AS cpdc\n",
    "            ON pc.datetime=cpdc.datetime\n",
    "            LEFT JOIN ({cpc}) AS cpc\n",
    "            ON pc.datetime=cpc.datetime\n",
    "            LEFT JOIN ({prc}) AS prc\n",
    "            ON pc.datetime=prc.datetime\n",
    "        '''\n",
    "        df=client.query_dataframe(sql)\n",
    "        repo_name=repo_names[i]\n",
    "        df.to_csv('data/'+repo_name+'.csv',index=None)\n",
    "        "
   ]
  },
  {
   "cell_type": "code",
   "execution_count": null,
   "id": "outstanding-gilbert",
   "metadata": {},
   "outputs": [],
   "source": []
  }
 ],
 "metadata": {
  "kernelspec": {
   "display_name": "Python 3",
   "language": "python",
   "name": "python3"
  },
  "language_info": {
   "codemirror_mode": {
    "name": "ipython",
    "version": 3
   },
   "file_extension": ".py",
   "mimetype": "text/x-python",
   "name": "python",
   "nbconvert_exporter": "python",
   "pygments_lexer": "ipython3",
   "version": "3.8.8"
  }
 },
 "nbformat": 4,
 "nbformat_minor": 5
}
